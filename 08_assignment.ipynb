{
  "cells": [
    {
      "cell_type": "markdown",
      "metadata": {
        "id": "view-in-github",
        "colab_type": "text"
      },
      "source": [
        "<a href=\"https://colab.research.google.com/github/simbol105/Machine-learing-assignment/blob/main/08_assignment.ipynb\" target=\"_parent\"><img src=\"https://colab.research.google.com/assets/colab-badge.svg\" alt=\"Open In Colab\"/></a>"
      ]
    },
    {
      "cell_type": "code",
      "execution_count": 33,
      "metadata": {
        "id": "Tyjzl7P_hk-I"
      },
      "outputs": [],
      "source": [
        "from matplotlib import pyplot as plt\n",
        "import numpy as np\n",
        "from sklearn import datasets\n",
        "from sklearn.model_selection import train_test_split\n",
        "from sklearn.tree import DecisionTreeClassifier\n",
        "from sklearn.metrics import accuracy_score"
      ]
    },
    {
      "cell_type": "code",
      "execution_count": 34,
      "metadata": {
        "id": "vQHSm5JDhk-J"
      },
      "outputs": [],
      "source": [
        "np.random.seed(1)\n",
        "\n",
        "# Load the iris dataset\n",
        "iris = datasets.load_iris()\n",
        "x = iris.data\n",
        "y = iris.target\n",
        "\n",
        "X_train, X_test, y_train, y_test = train_test_split(x, y, random_state=1)"
      ]
    },
    {
      "cell_type": "markdown",
      "metadata": {
        "id": "88sTFyC-hk-K"
      },
      "source": [
        "## 2.1. Implement the missing code parts"
      ]
    },
    {
      "cell_type": "code",
      "execution_count": 35,
      "metadata": {
        "id": "jMNvQvKPhk-L"
      },
      "outputs": [],
      "source": [
        "def bootstrap(\n",
        "        x: np.array,\n",
        "        y: np.array,\n",
        "        target_size: int\n",
        "    ) -> tuple:\n",
        "    \"\"\"\n",
        "    Implement bootsrapping without using sklearn!\n",
        "\n",
        "    Args:\n",
        "        x (ndarray):\n",
        "            The data in shape NxM\n",
        "        y (ndarray):\n",
        "            The target in shape N\n",
        "        target_size (int):\n",
        "            The size of the sample to return\n",
        "\n",
        "    Returns:\n",
        "        tuple(ndarray, ndarray):\n",
        "            The bootstrapped sample where the data is at the first\n",
        "            postion and the target at the second.\n",
        "    \"\"\"\n",
        "    assert x.shape[0] == len(y)\n",
        "\n",
        "    # TODO: Implement Bootsrapping\n",
        "    x_boot = np.zeros((target_size, x.shape[1]))\n",
        "    y_boot = np.zeros(target_size)\n",
        "    for i in range(target_size):\n",
        "        index = np.random.randint(0, x.shape[0])\n",
        "        x_boot[i] = x[index]\n",
        "        y_boot[i] = y[index]\n",
        "\n",
        "    return x_boot, y_boot\n",
        "\n",
        "    #raise NotImplementedError"
      ]
    },
    {
      "cell_type": "code",
      "execution_count": 36,
      "metadata": {
        "id": "AgUGQdxOhk-L"
      },
      "outputs": [],
      "source": [
        "class RandomForestClassifier():\n",
        "    \"\"\"\n",
        "    A random forest classifier.\n",
        "    \"\"\"\n",
        "\n",
        "    def __init__(\n",
        "            self,\n",
        "            num_trees: int = 100,\n",
        "            bootstrapping_size: int = 50,\n",
        "            feature_subset: int = 3\n",
        "        ):\n",
        "        \"\"\"\n",
        "        Initializes the RandomForestClassifier.\n",
        "\n",
        "        Args:\n",
        "            num_trees (int):\n",
        "                Number of weak learner trees.\n",
        "            bootstrapping_size (int):\n",
        "                The size of the bootstrapped samples.\n",
        "            feature_subset (int):\n",
        "                The number of features to use for the splitting\n",
        "                criteria.\n",
        "        \"\"\"\n",
        "        # TODO: Implement initialization of the RandomForrestClassifier\n",
        "        self.num_trees = num_trees\n",
        "        self.bootstrapping_size = bootstrapping_size\n",
        "        self.feature_subset = feature_subset\n",
        "        self.trees = []\n",
        "\n",
        "        #raise NotImplementedError\n",
        "\n",
        "    def fit(\n",
        "            self,\n",
        "            x: np.array,\n",
        "            y: np.array\n",
        "        ):\n",
        "        \"\"\"\n",
        "        Fitting the random forest to the data given.\n",
        "\n",
        "        Args:\n",
        "            x (ndarray):\n",
        "                The data in shape NxM.\n",
        "            y (ndarray):\n",
        "                The target in shape N.\n",
        "        \"\"\"\n",
        "        assert x.ndim == 2 and y.ndim == 1, \"Wrong dimensions for X!\"\n",
        "        assert x.shape[0] == len(y), \"Size of X and y does not match!\"\n",
        "\n",
        "        # TODO: Implement the algorithm to learn a random forrest.\n",
        "        #       you may use sklearn.tree.DecisionThreeClassifier as the\n",
        "        #       implementation for the weak learner\n",
        "        for i in range(self.num_trees):\n",
        "            x_boot, y_boot = bootstrap(x, y, self.bootstrapping_size)\n",
        "            model = DecisionTreeClassifier()\n",
        "            model.fit(x_boot, y_boot)\n",
        "            self.trees.append(model)\n",
        "\n",
        "        #raise NotImplementedError\n",
        "\n",
        "    def predict(self, x: np.array) -> np.array:\n",
        "        \"\"\"\n",
        "        Predict the target class for the data X using majority voting.\n",
        "\n",
        "        Args:\n",
        "            x (ndarray):\n",
        "                The data in shape NxM.\n",
        "\n",
        "        Returns:\n",
        "            (ndarray):\n",
        "                The predictions in shape N\n",
        "        \"\"\"\n",
        "\n",
        "        assert x.ndim == 2\n",
        "\n",
        "        # TODO: Implement the prediction of the random forest.\n",
        "        for i in range(self.num_trees):\n",
        "            if i == 0:\n",
        "                y_pred = self.trees[i].predict(x)\n",
        "            else:\n",
        "                y_pred = np.vstack((y_pred, self.trees[i].predict(x)))\n",
        "\n",
        "        y_pred = np.apply_along_axis(lambda x: np.bincount(x).argmax(), axis=0, arr=y_pred.astype('int'))\n",
        "        return y_pred\n",
        "        #raise NotImplementedError"
      ]
    },
    {
      "cell_type": "markdown",
      "metadata": {
        "id": "hEeSBd24hk-M"
      },
      "source": [
        "## 2.2. What is the accuracy you get with the default hyperparameters?"
      ]
    },
    {
      "cell_type": "code",
      "execution_count": 37,
      "metadata": {
        "colab": {
          "base_uri": "https://localhost:8080/"
        },
        "id": "abwzbRjAhk-M",
        "outputId": "f4d0f6ca-fa99-4e78-c116-02de4d8bfafd"
      },
      "outputs": [
        {
          "output_type": "stream",
          "name": "stdout",
          "text": [
            "0.9736842105263158\n"
          ]
        }
      ],
      "source": [
        "# TODO: Create a random forest, fit it to the train data, generate\n",
        "#       predictions on the test inputs, and evaluate the accuracy of\n",
        "#       the model on the test data.\n",
        "model = RandomForestClassifier()\n",
        "model.fit(X_train, y_train)\n",
        "y_pred = model.predict(X_test)\n",
        "accuracy = accuracy_score(y_test, y_pred)\n",
        "print(accuracy)"
      ]
    },
    {
      "cell_type": "markdown",
      "metadata": {
        "id": "DPyKkP1bhk-M"
      },
      "source": [
        "### 2.3. Set the value of `bootstrapping_size` to a lower number and then to a higher number than the default.<br/>How doest the accuracy change?<br/>Why is this happening?"
      ]
    },
    {
      "cell_type": "code",
      "execution_count": 38,
      "metadata": {
        "colab": {
          "base_uri": "https://localhost:8080/"
        },
        "id": "VmyToCIrhk-M",
        "outputId": "a7993da9-646a-48e5-8d3a-635fefddd885"
      },
      "outputs": [
        {
          "output_type": "stream",
          "name": "stdout",
          "text": [
            "Bootstrapping size: 10, Accuracy: 0.9736842105263158\n",
            "Bootstrapping size: 20, Accuracy: 0.9736842105263158\n",
            "Bootstrapping size: 30, Accuracy: 0.9736842105263158\n",
            "Bootstrapping size: 40, Accuracy: 0.9736842105263158\n",
            "Bootstrapping size: 50, Accuracy: 0.9736842105263158\n",
            "Bootstrapping size: 60, Accuracy: 0.9736842105263158\n",
            "Bootstrapping size: 70, Accuracy: 0.9736842105263158\n",
            "Bootstrapping size: 80, Accuracy: 0.9736842105263158\n",
            "Bootstrapping size: 90, Accuracy: 0.9736842105263158\n",
            "Bootstrapping size: 100, Accuracy: 0.9736842105263158\n",
            "Bootstrapping size: 110, Accuracy: 0.9736842105263158\n"
          ]
        }
      ],
      "source": [
        "# TODO: Calculate the accuracy of models wit bootstrapping sizes\n",
        "#       ranging from 10 to 110.\n",
        "bootstrapping_sizes = [10, 20, 30, 40, 50, 60, 70, 80, 90, 100, 110]\n",
        "accuracies = []\n",
        "for size in bootstrapping_sizes:\n",
        "    model = RandomForestClassifier(bootstrapping_size=size)\n",
        "    model.fit(X_train, y_train)\n",
        "    y_pred = model.predict(X_test)\n",
        "    accuracy = accuracy_score(y_test, y_pred)\n",
        "    accuracies.append(accuracy)\n",
        "    print(f\"Bootstrapping size: {size}, Accuracy: {accuracy}\")\n",
        ""
      ]
    },
    {
      "cell_type": "code",
      "execution_count": 39,
      "metadata": {
        "colab": {
          "base_uri": "https://localhost:8080/",
          "height": 449
        },
        "id": "1tXnwrHUhk-N",
        "outputId": "b972ff92-f9c7-4bbf-883b-1f203ee69c33"
      },
      "outputs": [
        {
          "output_type": "display_data",
          "data": {
            "text/plain": [
              "<Figure size 640x480 with 1 Axes>"
            ],
            "image/png": "[encoded data removed]"
          },
          "metadata": {}
        }
      ],
      "source": [
        "# TODO: Plot the accuracies for the different bootsrapping sizes\n",
        "plt.plot(bootstrapping_sizes, accuracies)\n",
        "plt.xlabel(\"Bootstrapping size\")\n",
        "plt.ylabel(\"Accuracy\")\n",
        "plt.show()\n"
      ]
    },
    {
      "cell_type": "code",
      "source": [],
      "metadata": {
        "id": "yi8LdEEMpWdL"
      },
      "execution_count": 39,
      "outputs": []
    }
  ],
  "metadata": {
    "kernelspec": {
      "display_name": "gen",
      "language": "python",
      "name": "python3"
    },
    "language_info": {
      "codemirror_mode": {
        "name": "ipython",
        "version": 3
      },
      "file_extension": ".py",
      "mimetype": "text/x-python",
      "name": "python",
      "nbconvert_exporter": "python",
      "pygments_lexer": "ipython3",
      "version": "3.11.0"
    },
    "colab": {
      "provenance": [],
      "include_colab_link": true
    }
  },
  "nbformat": 4,
  "nbformat_minor": 0
}